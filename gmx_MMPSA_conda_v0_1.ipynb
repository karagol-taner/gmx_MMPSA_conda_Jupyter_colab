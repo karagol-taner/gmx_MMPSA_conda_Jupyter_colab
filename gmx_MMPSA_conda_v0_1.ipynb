{
  "nbformat": 4,
  "nbformat_minor": 0,
  "metadata": {
    "colab": {
      "provenance": [],
      "machine_shape": "hm",
      "gpuType": "V6E1",
      "mount_file_id": "1xy_8C3PAt9HF6xIhKhxufD3db1UVlZ5q",
      "authorship_tag": "ABX9TyOE2s4ii00/+KMcqgBNJvSO",
      "include_colab_link": true
    },
    "kernelspec": {
      "name": "python3",
      "display_name": "Python 3"
    },
    "language_info": {
      "name": "python"
    },
    "accelerator": "TPU"
  },
  "cells": [
    {
      "cell_type": "markdown",
      "metadata": {
        "id": "view-in-github",
        "colab_type": "text"
      },
      "source": [
        "<a href=\"https://colab.research.google.com/github/karagol-taner/gmx_MMPSA_conda_Jupyter_colab/blob/main/gmx_MMPSA_conda_v0_1.ipynb\" target=\"_parent\"><img src=\"https://colab.research.google.com/assets/colab-badge.svg\" alt=\"Open In Colab\"/></a>"
      ]
    },
    {
      "cell_type": "markdown",
      "source": [
        "**# Step 1:** Mount your drive or upload your molecular dynamics (GROMACS) files or"
      ],
      "metadata": {
        "id": "Zs1ewuOqjIHM"
      }
    },
    {
      "cell_type": "code",
      "source": [
        "from google.colab import drive\n",
        "drive.mount('/content/drive')"
      ],
      "metadata": {
        "id": "xXPcPheejGvx"
      },
      "execution_count": null,
      "outputs": []
    },
    {
      "cell_type": "markdown",
      "source": [
        "**# Step 2:** Install miniconda"
      ],
      "metadata": {
        "id": "Noig0mk5jmBr"
      }
    },
    {
      "cell_type": "code",
      "source": [
        "!wget https://repo.anaconda.com/miniconda/Miniconda3-latest-Linux-x86_64.sh\n",
        "!bash /content/Miniconda3-latest-Linux-x86_64.sh"
      ],
      "metadata": {
        "id": "XzywkvKhjlU_"
      },
      "execution_count": null,
      "outputs": []
    },
    {
      "cell_type": "code",
      "source": [
        "import os\n",
        "# Manually export conda binary to the PATH\n",
        "os.environ[\"PATH\"] += os.pathsep + \"/root/miniconda3/bin\""
      ],
      "metadata": {
        "id": "AbfSj6eyj8cY"
      },
      "execution_count": null,
      "outputs": []
    },
    {
      "cell_type": "code",
      "source": [
        "!conda tos accept --override-channels --channel https://repo.anaconda.com/pkgs/main #Accept required agreements of anaconda\n",
        "!conda tos accept --override-channels --channel https://repo.anaconda.com/pkgs/r"
      ],
      "metadata": {
        "id": "Mbn6hxWSkN9u"
      },
      "execution_count": null,
      "outputs": []
    },
    {
      "cell_type": "markdown",
      "source": [
        "**# Step 2:** Create conda environment and activate it, install gmx_MMPBSA"
      ],
      "metadata": {
        "id": "pLFd74FUjy0z"
      }
    },
    {
      "cell_type": "code",
      "source": [
        "!python -m pip install gmx_MMPBSA\n",
        "!export QT_QPA_PLATFORM=offscreen"
      ],
      "metadata": {
        "id": "i2uznCezUTHC"
      },
      "execution_count": null,
      "outputs": []
    },
    {
      "cell_type": "markdown",
      "source": [
        "**# Step 2**, **option 1**: Install with env.yml file downloaded from gmx_mmpbsa website"
      ],
      "metadata": {
        "id": "w33zCDXLkGpD"
      }
    },
    {
      "cell_type": "code",
      "source": [
        "#option 1\n",
        "!conda env create --file env.yml #env file location, downloaded from gmx_mmpbsa website\n",
        "import os\n",
        "os.environ[\"PATH\"] += os.pathsep + \"/root/miniconda3/envs/gmxMMPBSA/bin\" # Manually export conda binary to the PATH\n",
        "!source /root/miniconda3/bin/activate gmxMMPBSA"
      ],
      "metadata": {
        "id": "P9ixCkzamVkH"
      },
      "execution_count": null,
      "outputs": []
    },
    {
      "cell_type": "markdown",
      "source": [
        "**# Step 2**, **option 2**: Install dependencies with conda"
      ],
      "metadata": {
        "id": "vFzp-LBukir1"
      }
    },
    {
      "cell_type": "code",
      "source": [
        "#option 2\n",
        "!conda create -n gmxMMPBSA python=3.11.8 -y -q\n",
        "!source /root/miniconda3/bin/activate gmxMMPBSA\n",
        "!conda install -c conda-forge \"mpi4py=4.0.1\" \"ambertools<=23.3\" -y -q\n",
        "!conda install -c conda-forge \"numpy=1.26.4\" \"matplotlib=3.7.3\" \"scipy=1.14.1\" \"pandas=1.5.3\" \"seaborn=0.11.2\" -y -q\n",
        "!python -m pip install \"pyqt6==6.7.1\"\n",
        "!conda install -c conda-forge \"gromacs<=2023.4\" pocl -y -q\n",
        "import os\n",
        "os.environ[\"PATH\"] += os.pathsep + \"/root/miniconda3/envs/gmxMMPBSA/bin\" # Manually export conda binary to the PATH\n",
        "!source /root/miniconda3/bin/activate gmxMMPBSA"
      ],
      "metadata": {
        "id": "7GyMZyDfkTUG"
      },
      "execution_count": null,
      "outputs": []
    },
    {
      "cell_type": "markdown",
      "source": [
        "**# Step 3**: Update/change gromacs version (it can be better to use same gromacs version as you used for MD simulations)"
      ],
      "metadata": {
        "id": "9xDi07SvknZF"
      }
    },
    {
      "cell_type": "code",
      "source": [
        "#optional - update/change gromacs version (it can be better to use same gromacs version as you used for MD simulation)\n",
        "!source /root/miniconda3/bin/activate gmxMMPBSA\n",
        "!gmx --version\n",
        "!apt-get remove --purge gromacs\n",
        "!conda install -y -c conda-forge gromacs=2025.2"
      ],
      "metadata": {
        "id": "ZyUWTsBcYGfD"
      },
      "execution_count": null,
      "outputs": []
    },
    {
      "cell_type": "markdown",
      "source": [
        "**# Step 4**, **option 1**: Run gmx_MMPBSA (regular usage)"
      ],
      "metadata": {
        "id": "f0pUCc2Nk1fd"
      }
    },
    {
      "cell_type": "code",
      "source": [
        "#regular usage\n",
        "!source /root/miniconda3/bin/activate gmxMMPBSA\n",
        "%cd /location-to-MD-simulations\n",
        "!gmx_MMPBSA"
      ],
      "metadata": {
        "id": "dIeHazCkMtDX"
      },
      "execution_count": null,
      "outputs": []
    },
    {
      "cell_type": "markdown",
      "source": [
        "**# Step 4**, **option 2**: Run gmx_MMPBSA (usage for MPI, faster)"
      ],
      "metadata": {
        "id": "x-IgL-s8lAXD"
      }
    },
    {
      "cell_type": "code",
      "source": [
        "#usage for MPI (faster)\n",
        "!export OMP_NUM_THREADS=1\n",
        "!export OPENBLAS_NUM_THREADS=1\n",
        "!export MKL_NUM_THREADS=1\n",
        "!export NUMEXPR_NUM_THREADS=1\n",
        "!source /root/miniconda3/bin/activate gmxMMPBSA\n",
        "%cd /location-to-MD-simulations\n",
        "!mpirun -np 8 --bind-to core --map-by core gmx_MMPBSA #you may need to run as root"
      ],
      "metadata": {
        "id": "HDLsecJaNH0e"
      },
      "execution_count": null,
      "outputs": []
    },
    {
      "cell_type": "markdown",
      "source": [
        "**# Step 5**: Run gmx_MMPBSA_ana with GUI environment, local setup"
      ],
      "metadata": {
        "id": "wE9tgW_3lJ84"
      }
    },
    {
      "cell_type": "code",
      "source": [
        "#for graphs\n",
        "#move mmpbsa files to your desktop and run in your local terminal (it needs GUI):\n",
        "gmx_MMPBSA_ana -f /path-to-mmpbsa-data"
      ],
      "metadata": {
        "id": "JWDnKAZvL_Bn"
      },
      "execution_count": null,
      "outputs": []
    }
  ]
}