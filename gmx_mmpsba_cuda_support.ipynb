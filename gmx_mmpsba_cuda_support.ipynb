{
  "nbformat": 4,
  "nbformat_minor": 0,
  "metadata": {
    "colab": {
      "provenance": [],
      "authorship_tag": "ABX9TyO/H2W85e+NVMi0/z46L/DN",
      "include_colab_link": true
    },
    "kernelspec": {
      "name": "python3",
      "display_name": "Python 3"
    },
    "language_info": {
      "name": "python"
    }
  },
  "cells": [
    {
      "cell_type": "markdown",
      "metadata": {
        "id": "view-in-github",
        "colab_type": "text"
      },
      "source": [
        "<a href=\"https://colab.research.google.com/github/karagol-taner/gmx_MMPSA_conda_Jupyter_colab/blob/main/gmx_mmpsba_cuda_support.ipynb\" target=\"_parent\"><img src=\"https://colab.research.google.com/assets/colab-badge.svg\" alt=\"Open In Colab\"/></a>"
      ]
    },
    {
      "cell_type": "code",
      "execution_count": null,
      "metadata": {
        "id": "gnK8p5O-JOJn"
      },
      "outputs": [],
      "source": [
        "# if gromacs already installed:\n",
        "!gmx --version\n",
        "!apt-get remove --purge gromacs\n",
        "# Download the latest version of GROMACS 2025.2\n",
        "!wget https://ftp.gromacs.org/gromacs/gromacs-2025.2.tar.gz\n",
        "# Extract the tarball\n",
        "!tar xfz gromacs-2025.2.tar.gz\n",
        "%cd gromacs-2025.2\n",
        "# Create a build directory\n",
        "!mkdir build\n",
        "%cd build\n",
        "# Configure the build with CUDA (GPU) support\n",
        "!cmake .. -DGMX_BUILD_OWN_FFTW=ON -DGMX_GPU=CUDA -DCMAKE_INSTALL_PREFIX=/usr/local/gromacs\n",
        "# Compile the source code using all available cores\n",
        "!make -j$(nproc)\n",
        "# Install GROMACS\n",
        "!make install\n",
        "# Manually export GROMACS binary to the PATH\n",
        "import os\n",
        "os.environ['PATH'] += \":/usr/local/gromacs/bin\""
      ]
    },
    {
      "cell_type": "code",
      "source": [
        "%cd /content\n",
        "!wget https://repo.anaconda.com/miniconda/Miniconda3-latest-Linux-x86_64.sh\n",
        "!bash /content/Miniconda3-latest-Linux-x86_64.sh\n",
        "import os\n",
        "# Manually export conda binary to the PATH\n",
        "os.environ[\"PATH\"] += os.pathsep + \"/root/miniconda3/bin\"\n",
        "!conda tos accept --override-channels --channel https://repo.anaconda.com/pkgs/main\n",
        "!conda tos accept --override-channels --channel https://repo.anaconda.com/pkgs/r\n",
        "!conda create -n gmxMMPBSA python=3.11.8 -y -q\n",
        "!conda install cuda-cudart cuda-version=12\n",
        "!conda install -c conda-forge \"mpi4py=4.0.1\" \"ambertools<=23.3\" -y -q\n",
        "!conda install -c conda-forge \"numpy=1.26.4\" \"matplotlib=3.7.3\" \"scipy=1.14.1\" \"pandas=1.5.3\" \"seaborn=0.11.2\" -y -q\n",
        "import os\n",
        "os.environ[\"PATH\"] += os.pathsep + \"/root/miniconda3/envs/gmxMMPBSA/bin\" # Manually export conda binary to the PATH\n",
        "!source /root/miniconda3/bin/activate gmxMMPBSA\n",
        "# Install only the Python package without pulling dependencies\n",
        "!python -m pip install gmx_MMPBSA"
      ],
      "metadata": {
        "id": "bTO6H-ZaNYEl"
      },
      "execution_count": null,
      "outputs": []
    }
  ]
}